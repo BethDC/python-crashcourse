{
 "cells": [
  {
   "cell_type": "markdown",
   "metadata": {},
   "source": [
    "### PyLadies Chicago & SheNomads present: Python, a Crash Course \n",
    "\n",
    "![python-logo-master-flat.png]\n",
    "\n",
    "Today we will briefly review:\n",
    "\n",
    "- The history of Python (or rather, why Python?)\n",
    "- Examples of Python in use\n",
    "- Python data structures, syntax, and control flow\n",
    "- Python modules\n",
    "- Python demo: Using Python to pull data down from Twitter API!"
   ]
  },
  {
   "cell_type": "markdown",
   "metadata": {},
   "source": [
    "### Typing your first Python 3 command\n",
    "\n",
    "Python is a:\n",
    "\n",
    "- Interpreted language\n",
    "- Dynamic language\n",
    "- Strongly typed\n",
    "\n",
    "What does this mean?\n",
    "\n",
    "- Types in Python are tracked, only specific methods word on specific objects (e.g. `isinstance()`)\n",
    "- Python however does not restrict the type a variable may have\n",
    "\n",
    "More reading [here](https://wiki.python.org/moin/Why%20is%20Python%20a%20dynamic%20language%20and%20also%20a%20strongly%20typed%20language)"
   ]
  },
  {
   "cell_type": "code",
   "execution_count": 2,
   "metadata": {
    "collapsed": false
   },
   "outputs": [
    {
     "name": "stdout",
     "output_type": "stream",
     "text": [
      "LorenaLorenaLorena\n",
      "5.5\n"
     ]
    }
   ],
   "source": [
    "my_name = \"Lorena\"\n",
    "print(my_name * 3)\n",
    "my_height = 66\n",
    "print(my_height / 12)"
   ]
  },
  {
   "cell_type": "markdown",
   "metadata": {
    "collapsed": true
   },
   "source": [
    "#### Python Modules\n",
    "\n",
    "To get a list of all your Python modules installed you can use the `help(\"modules\")` command in a Python REPL (Read-Eval-Print-Loop/ CLI interpreter).\n",
    "\n",
    "If you'd like to see functions within a module you can use `help(\"module_name\")` if you haven't `import`ed the Python module yet.  \n",
    "\n",
    "Want to know all the reserved keywords in Python? There's a module for that!\n"
   ]
  },
  {
   "cell_type": "code",
   "execution_count": 1,
   "metadata": {
    "collapsed": false
   },
   "outputs": [
    {
     "data": {
      "text/plain": [
       "True"
      ]
     },
     "execution_count": 1,
     "metadata": {},
     "output_type": "execute_result"
    }
   ],
   "source": [
    "import keyword\n",
    "all_keywords = keyword.kwlist\n",
    "keyword.iskeyword(\"and\")\n"
   ]
  },
  {
   "cell_type": "code",
   "execution_count": null,
   "metadata": {
    "collapsed": true
   },
   "outputs": [],
   "source": []
  },
  {
   "cell_type": "code",
   "execution_count": null,
   "metadata": {
    "collapsed": true
   },
   "outputs": [],
   "source": []
  },
  {
   "cell_type": "code",
   "execution_count": null,
   "metadata": {
    "collapsed": true
   },
   "outputs": [],
   "source": []
  },
  {
   "cell_type": "code",
   "execution_count": null,
   "metadata": {
    "collapsed": true
   },
   "outputs": [],
   "source": []
  },
  {
   "cell_type": "code",
   "execution_count": null,
   "metadata": {
    "collapsed": true
   },
   "outputs": [],
   "source": []
  },
  {
   "cell_type": "code",
   "execution_count": null,
   "metadata": {
    "collapsed": true
   },
   "outputs": [],
   "source": []
  }
 ],
 "metadata": {
  "kernelspec": {
   "display_name": "Python 3",
   "language": "python",
   "name": "python3"
  },
  "language_info": {
   "codemirror_mode": {
    "name": "ipython",
    "version": 3
   },
   "file_extension": ".py",
   "mimetype": "text/x-python",
   "name": "python",
   "nbconvert_exporter": "python",
   "pygments_lexer": "ipython3",
   "version": "3.5.2"
  }
 },
 "nbformat": 4,
 "nbformat_minor": 1
}
