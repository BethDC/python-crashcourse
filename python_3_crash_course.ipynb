{
 "cells": [
  {
   "cell_type": "markdown",
   "metadata": {
    "slideshow": {
     "slide_type": "slide"
    }
   },
   "source": [
    "<br>\n",
    "<h3 style=\"text-align: center\">PyLadies Chicago & SheNomads present:</h3>\n",
    "<h1 style=\"text-align: center\">Python, a Crash Course</h1>\n",
    "<br>\n",
    "<br>\n",
    "<br>\n",
    "\n",
    "<img src='Python3-powered_hello-world.png' style='display: block;\n",
    "    margin: 0 auto;'/>\n",
    "\n",
    "<br>\n",
    "<br>\n",
    "<br>"
   ]
  },
  {
   "cell_type": "markdown",
   "metadata": {
    "slideshow": {
     "slide_type": "slide"
    }
   },
   "source": [
    "### Learning Objectives\n",
    "\n",
    "Today we will briefly review:\n",
    "\n",
    "- The history of Python (or rather, why Python?)\n",
    "- Examples of Python in use\n",
    "- Python data structures, syntax, and control flow\n",
    "- Python modules\n",
    "- Python demo: Using Python to pull data down from Twitter API!\n",
    "- Resources to learn Python"
   ]
  },
  {
   "cell_type": "markdown",
   "metadata": {
    "slideshow": {
     "slide_type": "slide"
    }
   },
   "source": [
    "### Greetings, I'm Lorena Mesa!\n",
    "\n",
    "<br><br><br>\n",
    "<img src='bio_slide.png' style='display: block;\n",
    "    margin: 0 auto;'/>"
   ]
  },
  {
   "cell_type": "markdown",
   "metadata": {
    "slideshow": {
     "slide_type": "slide"
    }
   },
   "source": [
    "### Netherlands, 1989\n",
    "\n",
    "<img src='https://upload.wikimedia.org/wikipedia/en/2/25/PythonProgLogo.png' style='display: block;\n",
    "    margin: 0 auto;'/>\n",
    "\n",
    "Python's first implemented began in December 1989 by Guido van Rossum, the Benevolent Dictator for Life (BDFL)\n",
    "\n",
    "Name does indeed come Monty Python's Flying Circus\n",
    "\n",
    "#### \"Python is an experiment in how much freedom programmers need. Too much freedom and nobody can read another's code; too little and expressiveness is endangered\" - Guido van Rossum\n",
    "\n",
    "![guido_with_a_python.jpg](guido_with_a_python.jpg)\n",
    "\n"
   ]
  },
  {
   "cell_type": "markdown",
   "metadata": {
    "slideshow": {
     "slide_type": "slide"
    }
   },
   "source": [
    "### Why Python 3?\n",
    "\n",
    "Python 2.7 will be supported until 2020, only updates you'll see for Python 2.7 includes:\n",
    "\n",
    "- Minor security fixes\n",
    "- Support for new OS versions / tool chains\n",
    "\n",
    "Want updates? Check out [Python Clock](http://pythonclock.org)\n",
    "\n",
    "Guido (at PyCon 2016 keynote) said there will be an \"official end of Python 2.7 party at PyCon 2020\""
   ]
  },
  {
   "cell_type": "markdown",
   "metadata": {
    "slideshow": {
     "slide_type": "slide"
    }
   },
   "source": [
    "### Where is Python used?\n",
    "\n",
    "Python is used many places, such as:\n",
    "\n",
    "- Instagram\n",
    "- YouTube\n",
    "- Shopzilla\n",
    "\n",
    "It is widely used in:\n",
    "- Education * (Raspberry Pi, MicroBit)\n",
    "- Web development\n",
    "- Academics + Science (Python used to help detect the first [gravitational waves](https://www.ligo.caltech.edu/news/ligo20160211)!) \n",
    "- Data science \n",
    "- Civic tech (I used Python at Obama for America, data munging!)\n",
    "\n",
    "\n",
    "* Python is one of the most common taught languges by computer science departments, in July 2014 [8 of the top 10](http://cacm.acm.org/blogs/blog-cacm/176450-python-is-now-the-most-popular-introductory-teaching-language-at-top-us-universities/fulltext) CS departments use Python for their intro CS departments!"
   ]
  },
  {
   "cell_type": "markdown",
   "metadata": {
    "slideshow": {
     "slide_type": "slide"
    }
   },
   "source": [
    "### Typing your first Python 3 command\n",
    "\n",
    "Python is a(n):\n",
    "\n",
    "- Interpreted language\n",
    "- Dynamic language\n",
    "- Strongly typed\n",
    "\n",
    "What does this mean?\n",
    "\n",
    "- Types in Python are tracked, only specific methods word on specific objects (e.g. `isinstance()`)\n",
    "- Python however does not restrict the type a variable may have\n",
    "\n",
    "More reading [here](https://wiki.python.org/moin/Why%20is%20Python%20a%20dynamic%20language%20and%20also%20a%20strongly%20typed%20language)"
   ]
  },
  {
   "cell_type": "code",
   "execution_count": 3,
   "metadata": {
    "collapsed": false,
    "slideshow": {
     "slide_type": "fragment"
    }
   },
   "outputs": [
    {
     "name": "stdout",
     "output_type": "stream",
     "text": [
      "LorenaLorenaLorena\n",
      "5.5\n",
      "sixty-sixsixty-sixsixty-six\n"
     ]
    }
   ],
   "source": [
    "my_name = \"Lorena\"\n",
    "print(my_name * 3)  # Math operators like multiplication works differently for string vs. numbers \n",
    "my_height = 66\n",
    "print(my_height / 12)\n",
    "\n",
    "\n",
    "my_height = \"sixty-six\"\n",
    "print(my_height * 3)\n",
    "\n"
   ]
  },
  {
   "cell_type": "markdown",
   "metadata": {
    "slideshow": {
     "slide_type": "slide"
    }
   },
   "source": [
    "### Installing Python 3\n",
    "\n",
    "Python 2.7 comes installed on Mac machines, you could use this but remember Python 2.7 is being retired in 2020 (at that awesome party?)\n",
    "\n",
    "To install Python 3 go to python.org and follow [download](https://www.python.org/downloads/) instructions\n",
    "\n",
    "For those of you who want 1+ versions of Python on your machine you can [alias](https://www.youtube.com/watch?v=IX6mc9l6tY4) Python 3 to `python3` for a global installation, or you can use `virtualenv` - a nifty tool to [create environments](http://stackoverflow.com/questions/23842713/using-python-3-in-virtualenv) for each Python project\n",
    "\n",
    "There are, however, great tools online to begin working with Python 3:\n",
    "- [repl.it](http://repl.it)\n",
    "- [CoderPad](http://coderpad.io)\n",
    "- [Cloud 9](http://c9.io)"
   ]
  },
  {
   "cell_type": "markdown",
   "metadata": {
    "slideshow": {
     "slide_type": "slide"
    }
   },
   "source": [
    "### Python Backus–Naur Form Notation\n",
    "\n",
    "```\n",
    "name      ::=  lc_letter (lc_letter | \"_\")*\n",
    "lc_letter ::=  \"a\"...\"z\"\n",
    "```\n",
    "\n",
    "\"The first line says that a name is an `lc_letter` followed by a sequence of zero or more `lc_letters` and underscores. An `lc_letter` in turn is any of the single characters 'a' through 'z'. (This rule is actually adhered to for the names defined in lexical and grammar rules in this document.)\n",
    "\n",
    "Each rule begins with a name (which is the name defined by the rule) and ::=. A vertical bar (|) is used to separate alternatives; it is the least binding operator in this notation. A star (*) means zero or more repetitions of the preceding item; likewise, a plus (+) means one or more repetitions, and a phrase enclosed in square brackets ([ ]) means zero or one occurrences (in other words, the enclosed phrase is optional). The * and + operators bind as tightly as possible; parentheses are used for grouping. Literal strings are enclosed in quotes. White space is only meaningful to separate tokens. Rules are normally contained on a single line; rules with many alternatives may be formatted alternatively with each line after the first beginning with a vertical bar.\"\n",
    "\n",
    "Except from Python 3 Introduction [1.2 Notation](https://docs.python.org/3/reference/introduction.html)"
   ]
  },
  {
   "cell_type": "markdown",
   "metadata": {
    "slideshow": {
     "slide_type": "slide"
    }
   },
   "source": [
    "### Python Types\n",
    "\n",
    "Like any programming language, we can use Python as a glorified calculator. Exciting? Perhaps ...\n",
    "\n",
    "In Python, everything is an object. What is an object? We can understand objects by understanding their types such as:\n"
   ]
  },
  {
   "cell_type": "code",
   "execution_count": 11,
   "metadata": {
    "collapsed": false,
    "slideshow": {
     "slide_type": "fragment"
    }
   },
   "outputs": [
    {
     "name": "stdout",
     "output_type": "stream",
     "text": [
      "<class 'int'>\n",
      "<class 'float'>\n",
      "<class 'str'>\n",
      "<class 'bool'>\n"
     ]
    }
   ],
   "source": [
    "my_int = 123\n",
    "my_float = 1.0\n",
    "my_str = 'my_str'\n",
    "my_bool = False \n",
    "\n",
    "print(type(my_int))\n",
    "print(type(my_float))\n",
    "print(type(my_str))\n",
    "print(type(my_bool))"
   ]
  },
  {
   "cell_type": "markdown",
   "metadata": {
    "slideshow": {
     "slide_type": "slide"
    }
   },
   "source": [
    "### Python Collections\n",
    "\n",
    "Python likewise has collections such as:"
   ]
  },
  {
   "cell_type": "code",
   "execution_count": 12,
   "metadata": {
    "collapsed": false,
    "slideshow": {
     "slide_type": "fragment"
    }
   },
   "outputs": [
    {
     "name": "stdout",
     "output_type": "stream",
     "text": [
      "<class 'list'>\n",
      "<class 'dict'>\n"
     ]
    }
   ],
   "source": [
    "my_list = [1,23,1.0,'car']\n",
    "my_dict = {'hi': 'hola', 'bye': 'adios'}\n",
    "\n",
    "print(type(my_list))\n",
    "print(type(my_dict))"
   ]
  },
  {
   "cell_type": "markdown",
   "metadata": {
    "slideshow": {
     "slide_type": "slide"
    }
   },
   "source": [
    "### Combining things to do things!\n",
    "\n",
    "Python has various ways to chain logic together as well.\n",
    "\n",
    "We've got the basics of control flow with `if` statements:\n",
    "\n",
    "```\n",
    "if you_all is having_fun:\n",
    "    print(\"YAYYY\"\n",
    "else:\n",
    "    print(\"BOOO!\")\n",
    "```\n",
    "\n",
    "You can rewrite `if` statements into one line, should you like but that generally seen as not very Pythonic. \n",
    "```\n",
    "msg = \"YAYYY\" if you_all is having_fun else \"BOOO!\"\n",
    "```\n",
    "\n",
    "Looping is pretty straight forward too:\n",
    "```\n",
    "random_things = [1,\"boooo\",\"moooo\",\"foooo\", 9123, [1,23]]\n",
    "for thing in random_things:\n",
    "    print(thing)\n",
    "\n",
    "count = 0\n",
    "while count < len(random_things):\n",
    "    print(random_things[count])\n",
    "    count += 1\n",
    "```"
   ]
  },
  {
   "cell_type": "markdown",
   "metadata": {
    "slideshow": {
     "slide_type": "slide"
    }
   },
   "source": [
    "### List Comprehensions, an example of the Pythonic way\n",
    "\n",
    "What does it mean to be \"Pythonic\"? Let's take a list at a list comprehension to get a feel for it:"
   ]
  },
  {
   "cell_type": "code",
   "execution_count": null,
   "metadata": {
    "collapsed": true,
    "slideshow": {
     "slide_type": "fragment"
    }
   },
   "outputs": [],
   "source": [
    "bag_of_words = [\"hello\", \"happy\", \"hippo\", \"hungry\", \"human\", \"mammal\"]\n",
    "bag_of_words = [word for word in bag_of_words if \"h\" in word]  # In place filtering\n",
    "bag_of_words = list(filter(lambda word: \"h\" in word, bag_of_words))  # Yes, there is some functionalish programming elements in Python"
   ]
  },
  {
   "cell_type": "markdown",
   "metadata": {
    "slideshow": {
     "slide_type": "slide"
    }
   },
   "source": [
    "### And Python functions?\n",
    "\n",
    "We can create them by using the `def` keyword. For example:\n",
    "    \n",
    "```\n",
    "def say_hello(name)\n",
    "    return \"Hello \" + name\n",
    "\n",
    "print(say_hello(\"Lorena\"))\n",
    "````"
   ]
  },
  {
   "cell_type": "markdown",
   "metadata": {
    "slideshow": {
     "slide_type": "slide"
    }
   },
   "source": [
    "### Try this!\n",
    "\n",
    "Try typing the following:\n",
    "\n",
    "```\n",
    "example_list = [1,2,3]\n",
    "for number in example_list:\n",
    "print(number)\n",
    "```"
   ]
  },
  {
   "cell_type": "markdown",
   "metadata": {
    "slideshow": {
     "slide_type": "subslide"
    }
   },
   "source": [
    "### White Space, it matters!\n",
    "\n",
    "[![Ah ah ah](https://img.youtube.com/vi/RfiQYRn7fBg/0.jpg)](https://www.youtube.com/watch?v=RfiQYRn7fBg&t=15s) \n",
    "\n",
    "*Note: The [eternal tab vs. space debate](https://www.python.org/dev/peps/pep-0008/#tabs-or-spaces) paraphrased - pick one and use it, don't mix :D!*"
   ]
  },
  {
   "cell_type": "markdown",
   "metadata": {
    "slideshow": {
     "slide_type": "slide"
    }
   },
   "source": [
    "### Lastly ... The Zen of Python\n",
    "\n",
    "\n",
    "```\n",
    "The Zen of Python, by Tim Peters\n",
    "\n",
    "Beautiful is better than ugly.\n",
    "Explicit is better than implicit.\n",
    "Simple is better than complex.\n",
    "Complex is better than complicated.\n",
    "Flat is better than nested.\n",
    "Sparse is better than dense.\n",
    "Readability counts.\n",
    "Special cases aren't special enough to break the rules.\n",
    "Although practicality beats purity.\n",
    "Errors should never pass silently.\n",
    "Unless explicitly silenced.\n",
    "In the face of ambiguity, refuse the temptation to guess.\n",
    "There should be one-- and preferably only one --obvious way to do it.\n",
    "Although that way may not be obvious at first unless you're Dutch.\n",
    "Now is better than never.\n",
    "Although never is often better than *right* now.\n",
    "If the implementation is hard to explain, it's a bad idea.\n",
    "If the implementation is easy to explain, it may be a good idea.\n",
    "Namespaces are one honking great idea -- let's do more of those!\n",
    "````\n",
    "\n"
   ]
  },
  {
   "cell_type": "markdown",
   "metadata": {
    "collapsed": true,
    "slideshow": {
     "slide_type": "slide"
    }
   },
   "source": [
    "#### Let's get to it then, Python Modules\n",
    "\n",
    "To get a list of all your Python modules installed you can use the `help(\"modules\")` command in a Python REPL (Read-Eval-Print-Loop/ CLI interpreter).\n",
    "\n",
    "If you'd like to see functions within a module you can use `help(\"module_name\")` if you haven't `import`ed the Python module yet.  \n",
    "\n",
    "Want to know all the reserved keywords in Python? There's a module for that!\n"
   ]
  },
  {
   "cell_type": "code",
   "execution_count": 1,
   "metadata": {
    "collapsed": false,
    "slideshow": {
     "slide_type": "fragment"
    }
   },
   "outputs": [
    {
     "data": {
      "text/plain": [
       "True"
      ]
     },
     "execution_count": 1,
     "metadata": {},
     "output_type": "execute_result"
    }
   ],
   "source": [
    "import keyword\n",
    "all_keywords = keyword.kwlist\n",
    "keyword.iskeyword(\"and\")\n"
   ]
  },
  {
   "cell_type": "markdown",
   "metadata": {
    "slideshow": {
     "slide_type": "slide"
    }
   },
   "source": [
    "##### Demo time!\n",
    "\n",
    "<br>\n",
    "<br>\n",
    "<br>\n",
    "\n",
    "<img src='http://www.prism.gatech.edu/~aclegg3/DemoTimeImages/DemoTimeTitle.png' style='display: block;\n",
    "    margin: 0 auto;'/>\n",
    "    "
   ]
  },
  {
   "cell_type": "markdown",
   "metadata": {
    "slideshow": {
     "slide_type": "slide"
    }
   },
   "source": [
    "#### Want to continue learning?\n",
    "\n",
    "Try:\n",
    "    - [Hitchhikers Guide to Python](http://docs.python-guide.org/en/latest/) (or the [book](http://shop.oreilly.com/product/0636920042921.do))\n",
    "    - [Learn Python the Hard Way](http://learnpythonthehardway.org/book/)\n",
    "    - Your local [PyLadies](http://pyladies.com) or [Python User Group](https://wiki.python.org/moin/LocalUserGroups)!\n",
    "\n",
    "\n",
    "### Questions? Tweet me @loooorenanicole!\n"
   ]
  }
 ],
 "metadata": {
  "celltoolbar": "Slideshow",
  "kernelspec": {
   "display_name": "Python 3",
   "language": "python",
   "name": "python3"
  },
  "language_info": {
   "codemirror_mode": {
    "name": "ipython",
    "version": 3
   },
   "file_extension": ".py",
   "mimetype": "text/x-python",
   "name": "python",
   "nbconvert_exporter": "python",
   "pygments_lexer": "ipython3",
   "version": "3.5.2"
  }
 },
 "nbformat": 4,
 "nbformat_minor": 1
}
